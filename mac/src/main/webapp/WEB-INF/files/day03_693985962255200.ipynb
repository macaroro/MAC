{
 "cells": [
  {
   "cell_type": "code",
   "execution_count": 1,
   "id": "5df798d5",
   "metadata": {},
   "outputs": [
    {
     "data": {
      "text/plain": [
       "3"
      ]
     },
     "execution_count": 1,
     "metadata": {},
     "output_type": "execute_result"
    }
   ],
   "source": [
    "# 객체 안에 포함된 함수(메소드)\n",
    "#객체에 포함되지 않은 함수\n",
    "\n",
    "max([1,2,3])"
   ]
  },
  {
   "cell_type": "code",
   "execution_count": 2,
   "id": "a8550d0d",
   "metadata": {},
   "outputs": [
    {
     "data": {
      "text/plain": [
       "'hello'"
      ]
     },
     "execution_count": 2,
     "metadata": {},
     "output_type": "execute_result"
    }
   ],
   "source": [
    "'HELLO'.lower()# 대문자로 소문자로(문자열 자체는 바꾸지 못함)"
   ]
  },
  {
   "cell_type": "code",
   "execution_count": 7,
   "id": "bcfea000",
   "metadata": {},
   "outputs": [
    {
     "data": {
      "text/plain": [
       "('HELLO', 'hello')"
      ]
     },
     "execution_count": 7,
     "metadata": {},
     "output_type": "execute_result"
    }
   ],
   "source": [
    "\"hello\".count('lo')\n",
    "str=\"Hello\".upper()\n",
    "str2=str.lower()\n",
    "(str,str2)#튜플임"
   ]
  },
  {
   "cell_type": "code",
   "execution_count": 12,
   "id": "3ac08ee7",
   "metadata": {},
   "outputs": [
    {
     "data": {
      "text/plain": [
       "'world'"
      ]
     },
     "execution_count": 12,
     "metadata": {},
     "output_type": "execute_result"
    }
   ],
   "source": [
    "\" world \".lstrip()#왼쪽 공백 제거\n",
    "\" world \".rstrip()#오른쪽 공백 제거\n",
    "\" world \".strip()#양쪽 공백제거\n",
    "\n"
   ]
  },
  {
   "cell_type": "code",
   "execution_count": 14,
   "id": "2f68cc90",
   "metadata": {},
   "outputs": [
    {
     "data": {
      "text/plain": [
       "'Hello,World'"
      ]
     },
     "execution_count": 14,
     "metadata": {},
     "output_type": "execute_result"
    }
   ],
   "source": [
    "\"Hello World\".replace(\" \",\",\")#공백을 찾아서 ,로 바꿔라"
   ]
  },
  {
   "cell_type": "code",
   "execution_count": 20,
   "id": "0ed8f6ab",
   "metadata": {},
   "outputs": [
    {
     "name": "stdout",
     "output_type": "stream",
     "text": [
      "<class 'list'>\n",
      "['Hello', 'World']\n"
     ]
    },
    {
     "data": {
      "text/plain": [
       "'Hello'"
      ]
     },
     "execution_count": 20,
     "metadata": {},
     "output_type": "execute_result"
    }
   ],
   "source": [
    "res=\"Hello World\".split()#공백으로 구분하는데 리스트로 출력\n",
    "print(type(res))\n",
    "print(res)\n",
    "s1,s2=res#list에 있는 값을 각각 s1,s2에 저장(튜플이 됨)\n",
    "s1"
   ]
  },
  {
   "cell_type": "code",
   "execution_count": 6,
   "id": "ff234a8c",
   "metadata": {},
   "outputs": [
    {
     "name": "stdout",
     "output_type": "stream",
     "text": [
      "아이디와 비밀번호를 입력하세요Smith abc111\n",
      "로그인 성공\n"
     ]
    }
   ],
   "source": [
    "str=input('아이디와 비밀번호를 입력하세요')\n",
    "res = str.split()\n",
    "a,b=res[0].lower(),res[1].upper()\n",
    "\n",
    "if(a==\"smith\" and b==\"ABC111\"):\n",
    "    print('로그인 성공')\n",
    "else:\n",
    "    print('fail')"
   ]
  },
  {
   "cell_type": "code",
   "execution_count": 9,
   "id": "67e9eca1",
   "metadata": {},
   "outputs": [
    {
     "data": {
      "text/plain": [
       "9"
      ]
     },
     "execution_count": 9,
     "metadata": {},
     "output_type": "execute_result"
    }
   ],
   "source": [
    "str=\"Hello World\"\n",
    "str.find('rl')#rl을 찾아라, index 8위치에 있다.\n",
    "str.find('l')#같은 문자가 여러개 있을때는 첫번째만 알려줌\n",
    "str.rfind('l')#뒤에서 부터 찾음"
   ]
  },
  {
   "cell_type": "code",
   "execution_count": 12,
   "id": "0bc9f075",
   "metadata": {},
   "outputs": [
    {
     "name": "stdout",
     "output_type": "stream",
     "text": [
      "ssss\tddddd\n",
      "\n",
      "ssss\n",
      "ddddd\n"
     ]
    }
   ],
   "source": [
    "print('ssss\\tddddd')#띄어쓰기\n",
    "print()\n",
    "print('ssss\\nddddd')#줄바꿈"
   ]
  },
  {
   "cell_type": "code",
   "execution_count": 13,
   "id": "630bb6f2",
   "metadata": {},
   "outputs": [
    {
     "name": "stdout",
     "output_type": "stream",
     "text": [
      "ssss \"\" ddddd\n"
     ]
    }
   ],
   "source": [
    "print('ssss \"\" ddddd')"
   ]
  },
  {
   "cell_type": "code",
   "execution_count": 3,
   "id": "c05e3d59",
   "metadata": {},
   "outputs": [
    {
     "data": {
      "text/plain": [
       "[1, 2, 4, 5, 3]"
      ]
     },
     "execution_count": 3,
     "metadata": {},
     "output_type": "execute_result"
    }
   ],
   "source": [
    "list=[1,2,4,5,3]\n",
    "list"
   ]
  },
  {
   "cell_type": "code",
   "execution_count": 4,
   "id": "92e2bb2a",
   "metadata": {},
   "outputs": [],
   "source": [
    "list.append(8)#리스트에서 데이터 추가"
   ]
  },
  {
   "cell_type": "code",
   "execution_count": 5,
   "id": "9bd5c30a",
   "metadata": {},
   "outputs": [
    {
     "data": {
      "text/plain": [
       "[1, 2, 4, 5, 3, 8]"
      ]
     },
     "execution_count": 5,
     "metadata": {},
     "output_type": "execute_result"
    }
   ],
   "source": [
    "list"
   ]
  },
  {
   "cell_type": "code",
   "execution_count": 6,
   "id": "d294a7f6",
   "metadata": {},
   "outputs": [
    {
     "data": {
      "text/plain": [
       "[1, 2, 4, 5, 3, 9]"
      ]
     },
     "execution_count": 6,
     "metadata": {},
     "output_type": "execute_result"
    }
   ],
   "source": [
    "list[5]=9#수정\n",
    "list"
   ]
  },
  {
   "cell_type": "code",
   "execution_count": 7,
   "id": "0e908463",
   "metadata": {},
   "outputs": [
    {
     "data": {
      "text/plain": [
       "[1, 2, 4, 5, 3]"
      ]
     },
     "execution_count": 7,
     "metadata": {},
     "output_type": "execute_result"
    }
   ],
   "source": [
    "list.pop(5)#삭제\n",
    "list"
   ]
  },
  {
   "cell_type": "code",
   "execution_count": 8,
   "id": "9e5d7f51-2f1c-444e-83ff-d28618fe056e",
   "metadata": {},
   "outputs": [
    {
     "data": {
      "text/plain": [
       "[2, 4, 5, 3]"
      ]
     },
     "execution_count": 8,
     "metadata": {},
     "output_type": "execute_result"
    }
   ],
   "source": [
    "del list[0]#삭제\n",
    "list"
   ]
  },
  {
   "cell_type": "code",
   "execution_count": 10,
   "id": "82c666a0-0a53-4fa0-b408-6a47d6f80796",
   "metadata": {},
   "outputs": [
    {
     "data": {
      "text/plain": [
       "[]"
      ]
     },
     "execution_count": 10,
     "metadata": {},
     "output_type": "execute_result"
    }
   ],
   "source": [
    "del list[:2]\n",
    "list"
   ]
  },
  {
   "cell_type": "code",
   "execution_count": 11,
   "id": "69a217c0-a3e9-412a-8d01-b8311568eeb4",
   "metadata": {},
   "outputs": [
    {
     "data": {
      "text/plain": [
       "[]"
      ]
     },
     "execution_count": 11,
     "metadata": {},
     "output_type": "execute_result"
    }
   ],
   "source": [
    "del list[:]#전체 삭제(하지만 객체는 메모리에 존재)\n",
    "list"
   ]
  },
  {
   "cell_type": "code",
   "execution_count": 12,
   "id": "8270ee02-3db4-4aaf-b172-0f2702037263",
   "metadata": {},
   "outputs": [
    {
     "ename": "ZeroDivisionError",
     "evalue": "division by zero",
     "output_type": "error",
     "traceback": [
      "\u001b[1;31m---------------------------------------------------------------------------\u001b[0m",
      "\u001b[1;31mZeroDivisionError\u001b[0m                         Traceback (most recent call last)",
      "Input \u001b[1;32mIn [12]\u001b[0m, in \u001b[0;36m<cell line: 1>\u001b[1;34m()\u001b[0m\n\u001b[1;32m----> 1\u001b[0m \u001b[38;5;28;43;01mTrue\u001b[39;49;00m\u001b[38;5;241;43m/\u001b[39;49m\u001b[38;5;28;43;01mFalse\u001b[39;49;00m\n",
      "\u001b[1;31mZeroDivisionError\u001b[0m: division by zero"
     ]
    }
   ],
   "source": [
    "True/False# 파이썬에서는 앞에 대문자"
   ]
  },
  {
   "cell_type": "code",
   "execution_count": 18,
   "id": "f5a1afdc-510c-4d1e-b7cb-26daf9c5ad12",
   "metadata": {},
   "outputs": [
    {
     "ename": "NameError",
     "evalue": "name 'mymod' is not defined",
     "output_type": "error",
     "traceback": [
      "\u001b[1;31m---------------------------------------------------------------------------\u001b[0m",
      "\u001b[1;31mNameError\u001b[0m                                 Traceback (most recent call last)",
      "Input \u001b[1;32mIn [18]\u001b[0m, in \u001b[0;36m<cell line: 1>\u001b[1;34m()\u001b[0m\n\u001b[1;32m----> 1\u001b[0m \u001b[43mmymod\u001b[49m\u001b[38;5;241m.\u001b[39mpy\n\u001b[0;32m      2\u001b[0m \u001b[38;5;28;01mdef\u001b[39;00m \u001b[38;5;21mmyfunc\u001b[39m():\n\u001b[0;32m      3\u001b[0m    \u001b[38;5;28mprint\u001b[39m(\u001b[38;5;124m'\u001b[39m\u001b[38;5;124m내가 만든 함수\u001b[39m\u001b[38;5;124m'\u001b[39m)\n",
      "\u001b[1;31mNameError\u001b[0m: name 'mymod' is not defined"
     ]
    }
   ],
   "source": [
    " #mymod.py\n",
    "def myfunc():\n",
    "    print('내가 만든 함수')"
   ]
  },
  {
   "cell_type": "code",
   "execution_count": 16,
   "id": "1bbf08da-fba0-40bf-a002-cff267874dcf",
   "metadata": {},
   "outputs": [
    {
     "ename": "SyntaxError",
     "evalue": "invalid syntax (2434356842.py, line 1)",
     "output_type": "error",
     "traceback": [
      "\u001b[1;36m  Input \u001b[1;32mIn [16]\u001b[1;36m\u001b[0m\n\u001b[1;33m    python mymod.py\u001b[0m\n\u001b[1;37m           ^\u001b[0m\n\u001b[1;31mSyntaxError\u001b[0m\u001b[1;31m:\u001b[0m invalid syntax\n"
     ]
    }
   ],
   "source": [
    "python mymod.py"
   ]
  },
  {
   "cell_type": "code",
   "execution_count": 17,
   "id": "3a1fd7eb-6d20-4bd3-9f65-bc367b3b8042",
   "metadata": {},
   "outputs": [
    {
     "ename": "ModuleNotFoundError",
     "evalue": "No module named 'mymod'",
     "output_type": "error",
     "traceback": [
      "\u001b[1;31m---------------------------------------------------------------------------\u001b[0m",
      "\u001b[1;31mModuleNotFoundError\u001b[0m                       Traceback (most recent call last)",
      "Input \u001b[1;32mIn [17]\u001b[0m, in \u001b[0;36m<cell line: 1>\u001b[1;34m()\u001b[0m\n\u001b[1;32m----> 1\u001b[0m \u001b[38;5;28;01mimport\u001b[39;00m \u001b[38;5;21;01mmymod\u001b[39;00m\n",
      "\u001b[1;31mModuleNotFoundError\u001b[0m: No module named 'mymod'"
     ]
    }
   ],
   "source": [
    "import mymod"
   ]
  },
  {
   "cell_type": "code",
   "execution_count": 32,
   "id": "84004987-bd1a-4e6a-a273-76a7f482bc1c",
   "metadata": {},
   "outputs": [
    {
     "data": {
      "text/plain": [
       "False"
      ]
     },
     "execution_count": 32,
     "metadata": {},
     "output_type": "execute_result"
    }
   ],
   "source": [
    "s2=\"123\"\n",
    "s2.isalpha()#문자로만 되있나, 숫자로만 되있나"
   ]
  },
  {
   "cell_type": "code",
   "execution_count": 30,
   "id": "88cb761f-f310-4f2d-88e1-8d56d8b02c33",
   "metadata": {},
   "outputs": [
    {
     "data": {
      "text/plain": [
       "False"
      ]
     },
     "execution_count": 30,
     "metadata": {},
     "output_type": "execute_result"
    }
   ],
   "source": [
    "s2=\"123\"\n",
    "s2.isalpha()"
   ]
  },
  {
   "cell_type": "code",
   "execution_count": 22,
   "id": "8a7874ca-ad10-4d35-bca2-f0cb1de825b7",
   "metadata": {},
   "outputs": [
    {
     "data": {
      "text/plain": [
       "True"
      ]
     },
     "execution_count": 22,
     "metadata": {},
     "output_type": "execute_result"
    }
   ],
   "source": [
    "s1=\"123\"\n",
    "s1.isdigit()"
   ]
  },
  {
   "cell_type": "code",
   "execution_count": 23,
   "id": "d937e2d2-decd-45d0-b1ff-3bbf822eedfa",
   "metadata": {},
   "outputs": [
    {
     "data": {
      "text/plain": [
       "True"
      ]
     },
     "execution_count": 23,
     "metadata": {},
     "output_type": "execute_result"
    }
   ],
   "source": [
    "\"hello worle\".endswith(\"le\")"
   ]
  },
  {
   "cell_type": "code",
   "execution_count": 54,
   "id": "a2a68fe1-424e-4138-8f3d-9dd8328ab811",
   "metadata": {},
   "outputs": [
    {
     "name": "stdin",
     "output_type": "stream",
     "text": [
      "전화번호를 입력하세여 010-8961-7058\n"
     ]
    },
    {
     "name": "stdout",
     "output_type": "stream",
     "text": [
      "010\n",
      "통과\n"
     ]
    }
   ],
   "source": [
    "str=input('전화번호를 입력하세여')\n",
    "res = str.split('-')\n",
    "a,b,c=res[0],res[1],res[2]\n",
    "print(a)\n",
    "if  a.startswith('010') and a.isdigit and len(b)==4 and len(c)==4 and b.isdigit  and c.isdigit:\n",
    "    print('통과')\n",
    "else:\n",
    "          print('오류')"
   ]
  },
  {
   "cell_type": "code",
   "execution_count": 74,
   "id": "d1f9b61d-cdde-4123-adc9-d558c8af6296",
   "metadata": {},
   "outputs": [
    {
     "name": "stdin",
     "output_type": "stream",
     "text": [
      "입력 dddd\n"
     ]
    },
    {
     "name": "stdout",
     "output_type": "stream",
     "text": [
      "dddd\n"
     ]
    },
    {
     "name": "stdin",
     "output_type": "stream",
     "text": [
      "입력 ddd\n"
     ]
    },
    {
     "name": "stdout",
     "output_type": "stream",
     "text": [
      "ddd\n"
     ]
    },
    {
     "name": "stdin",
     "output_type": "stream",
     "text": [
      "입력 \n"
     ]
    }
   ],
   "source": [
    "go=True\n",
    "\n",
    "while go:\n",
    "    str= input('입력')\n",
    "    \n",
    "    if str:\n",
    "        print(str)\n",
    "    else:\n",
    "        break\n",
    "    "
   ]
  },
  {
   "cell_type": "code",
   "execution_count": 75,
   "id": "ab1ef503-ee1d-479a-98a6-a5f91f8acbc0",
   "metadata": {},
   "outputs": [
    {
     "data": {
      "text/plain": [
       "[1, 2, 4, 3]"
      ]
     },
     "execution_count": 75,
     "metadata": {},
     "output_type": "execute_result"
    }
   ],
   "source": [
    "[1,2]+[4,3]#리스트 결합"
   ]
  },
  {
   "cell_type": "code",
   "execution_count": 77,
   "id": "8e64b3ce-dbde-478e-8831-14748ac8fd97",
   "metadata": {},
   "outputs": [
    {
     "data": {
      "text/plain": [
       "(1, 2, 3, 4)"
      ]
     },
     "execution_count": 77,
     "metadata": {},
     "output_type": "execute_result"
    }
   ],
   "source": [
    "(1,2)+(3,4)"
   ]
  },
  {
   "cell_type": "code",
   "execution_count": 79,
   "id": "e8ccbb0f-fc4e-45f4-8446-9f882586f9e3",
   "metadata": {},
   "outputs": [
    {
     "data": {
      "text/plain": [
       "{1, 2, 3, 5, 6}"
      ]
     },
     "execution_count": 79,
     "metadata": {},
     "output_type": "execute_result"
    }
   ],
   "source": [
    "set1={1,2,3,3,5,6,6,}#set으로 주면 중복없애고 출력\n",
    "set1"
   ]
  },
  {
   "cell_type": "code",
   "execution_count": 6,
   "id": "1e351e61-b278-4522-8346-e0fed5cd1f2f",
   "metadata": {},
   "outputs": [
    {
     "data": {
      "text/plain": [
       "{'name': 'smith', 'phone': '010-1111-2222', 'num': 11}"
      ]
     },
     "execution_count": 6,
     "metadata": {},
     "output_type": "execute_result"
    }
   ],
   "source": [
    "{'name':'smith', 'phone':'010-1111-2222', 'num':11}#dictionary\n",
    "\n"
   ]
  },
  {
   "cell_type": "code",
   "execution_count": 81,
   "id": "27d651cf-c078-46c0-93d2-99b36ff3c8fb",
   "metadata": {},
   "outputs": [
    {
     "data": {
      "text/plain": [
       "(1, 3)"
      ]
     },
     "execution_count": 81,
     "metadata": {},
     "output_type": "execute_result"
    }
   ],
   "source": [
    "def test():\n",
    "    return(1,3)\n",
    "\n",
    "test()"
   ]
  },
  {
   "cell_type": "code",
   "execution_count": 3,
   "id": "c8ef9a92-eafd-47b6-9e72-b935eacf0901",
   "metadata": {},
   "outputs": [
    {
     "data": {
      "text/plain": [
       "{1, 3, 6, 7, 9}"
      ]
     },
     "execution_count": 3,
     "metadata": {},
     "output_type": "execute_result"
    }
   ],
   "source": [
    "import random\n",
    "\n",
    "set1 = {random.randint(1,9) for n in range(6)}\n",
    "set1"
   ]
  },
  {
   "cell_type": "code",
   "execution_count": 5,
   "id": "93e2805c-a786-4abb-ac97-8d49b43c373c",
   "metadata": {},
   "outputs": [
    {
     "data": {
      "text/plain": [
       "False"
      ]
     },
     "execution_count": 5,
     "metadata": {},
     "output_type": "execute_result"
    }
   ],
   "source": [
    "5 not in [1,2,3,5]"
   ]
  },
  {
   "cell_type": "code",
   "execution_count": 19,
   "id": "d6d90fd3-6c9e-4c81-9757-1c5bf91e7dd0",
   "metadata": {},
   "outputs": [
    {
     "name": "stdout",
     "output_type": "stream",
     "text": [
      "[3, 9, 5, 4, 1]\n"
     ]
    }
   ],
   "source": [
    "list = [random.randint(1,9) for n in range(6)]\n",
    "\n",
    "\n",
    "result = []\n",
    "\n",
    "for i in list:\n",
    "    if i not in result:\n",
    "        result.append(i)\n",
    "\n",
    "print(result)"
   ]
  },
  {
   "cell_type": "code",
   "execution_count": 23,
   "id": "fdfc6ac4-6afd-4edf-b167-dfe1be7ed345",
   "metadata": {},
   "outputs": [
    {
     "name": "stdout",
     "output_type": "stream",
     "text": [
      "11 smint\n",
      "12 ward\n",
      "13 scott\n"
     ]
    }
   ],
   "source": [
    "emp = [[11,'smint'],[12,'ward'],[13,'scott']]\n",
    "for x, y in emp:    # 리스트의 가로 한 줄(안쪽 리스트)에서 요소 두 개를 꺼냄    \n",
    "    print(x, y)"
   ]
  },
  {
   "cell_type": "code",
   "execution_count": 27,
   "id": "17e61e03-b213-4b6e-b4af-a84f9d67d4b7",
   "metadata": {},
   "outputs": [
    {
     "data": {
      "text/plain": [
       "dict_items([('name', 'smith'), ('phone', '010-1111-2222'), ('num', 11)])"
      ]
     },
     "execution_count": 27,
     "metadata": {},
     "output_type": "execute_result"
    }
   ],
   "source": [
    "dic1={'name':'smith', 'phone':'010-1111-2222', 'num':11}#dictionary, 키가 중복되면 안됨\n",
    "#value를 찾기 위한 key\n",
    "\n",
    "dic1.items()"
   ]
  },
  {
   "cell_type": "code",
   "execution_count": 33,
   "id": "432f1d1d-e9b8-4be5-abd5-6b3fb039acb4",
   "metadata": {},
   "outputs": [
    {
     "name": "stdout",
     "output_type": "stream",
     "text": [
      "name smith\n",
      "phone 010-1111-2222\n",
      "num 11\n"
     ]
    }
   ],
   "source": [
    "dic1={'name':'smith', 'phone':'010-1111-2222', 'num':11}#dictionary, 키가 중복되면 안됨\n",
    "for  x,y in dic1.items():    # 리스트의 가로 한 줄(안쪽 리스트)에서 요소 두 개를 꺼냄    \n",
    "    print(x,y)"
   ]
  },
  {
   "cell_type": "code",
   "execution_count": 34,
   "id": "69c0ba44-9ff3-41d9-b049-637f15cb16a5",
   "metadata": {},
   "outputs": [
    {
     "data": {
      "text/plain": [
       "'smith'"
      ]
     },
     "execution_count": 34,
     "metadata": {},
     "output_type": "execute_result"
    }
   ],
   "source": [
    "dic1={'name':'smith', 'phone':'010-1111-2222', 'num':11}#dictionary, 키가 중복되면 안됨\n",
    "dic1['name']"
   ]
  }
 ],
 "metadata": {
  "kernelspec": {
   "display_name": "Python 3 (ipykernel)",
   "language": "python",
   "name": "python3"
  },
  "language_info": {
   "codemirror_mode": {
    "name": "ipython",
    "version": 3
   },
   "file_extension": ".py",
   "mimetype": "text/x-python",
   "name": "python",
   "nbconvert_exporter": "python",
   "pygments_lexer": "ipython3",
   "version": "3.9.12"
  }
 },
 "nbformat": 4,
 "nbformat_minor": 5
}
